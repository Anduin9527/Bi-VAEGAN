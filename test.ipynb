{
 "cells": [
  {
   "cell_type": "code",
   "execution_count": 1,
   "metadata": {},
   "outputs": [
    {
     "name": "stdout",
     "output_type": "stream",
     "text": [
      "dict_keys(['__header__', '__version__', '__globals__', 'trainval_loc', 'test_seen_loc', 'test_unseen_loc', 'all_classes', 'att'])\n",
      "dict_keys(['__header__', '__version__', '__globals__', 'features', 'labels'])\n"
     ]
    }
   ],
   "source": [
    "# 读取./datasets/WAVE的mat文件\n",
    "import os\n",
    "import scipy.io as sio\n",
    "import numpy as np\n",
    "\n",
    "\n",
    "att_data = sio.loadmat('./datasets/WAVE/att_splits.mat')\n",
    "print(att_data.keys())\n",
    "fea_data = sio.loadmat('./datasets/WAVE/f-CLS.mat')\n",
    "print(fea_data.keys())"
   ]
  },
  {
   "cell_type": "code",
   "execution_count": 2,
   "metadata": {},
   "outputs": [
    {
     "name": "stdout",
     "output_type": "stream",
     "text": [
      "(1024, 27)\n"
     ]
    }
   ],
   "source": [
    "att = att_data['att']\n",
    "print(att.shape)"
   ]
  },
  {
   "cell_type": "code",
   "execution_count": 3,
   "metadata": {},
   "outputs": [
    {
     "name": "stdout",
     "output_type": "stream",
     "text": [
      "(512, 864)\n"
     ]
    }
   ],
   "source": [
    "fea = fea_data['features']\n",
    "print(fea.shape)"
   ]
  }
 ],
 "metadata": {
  "kernelspec": {
   "display_name": "AI",
   "language": "python",
   "name": "python3"
  },
  "language_info": {
   "codemirror_mode": {
    "name": "ipython",
    "version": 3
   },
   "file_extension": ".py",
   "mimetype": "text/x-python",
   "name": "python",
   "nbconvert_exporter": "python",
   "pygments_lexer": "ipython3",
   "version": "3.10.11"
  }
 },
 "nbformat": 4,
 "nbformat_minor": 2
}
